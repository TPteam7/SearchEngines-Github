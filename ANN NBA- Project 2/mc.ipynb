{
 "cells": [
  {
   "cell_type": "markdown",
   "metadata": {},
   "source": [
    "# NBA Season"
   ]
  },
  {
   "cell_type": "markdown",
   "metadata": {},
   "source": [
    "### Data Initialization\n",
    "\n",
    "We are pulling the NBA season stats throughout the years from the URL of https://www.kaggle.com/datasets/justinas/nba-players-data/data"
   ]
  },
  {
   "cell_type": "code",
   "execution_count": 1,
   "metadata": {},
   "outputs": [],
   "source": [
    "import pandas as pd"
   ]
  },
  {
   "cell_type": "markdown",
   "metadata": {},
   "source": [
    "**Get the kaggle dataset**"
   ]
  },
  {
   "cell_type": "code",
   "execution_count": 2,
   "metadata": {},
   "outputs": [
    {
     "data": {
      "text/html": [
       "<div>\n",
       "<style scoped>\n",
       "    .dataframe tbody tr th:only-of-type {\n",
       "        vertical-align: middle;\n",
       "    }\n",
       "\n",
       "    .dataframe tbody tr th {\n",
       "        vertical-align: top;\n",
       "    }\n",
       "\n",
       "    .dataframe thead th {\n",
       "        text-align: right;\n",
       "    }\n",
       "</style>\n",
       "<table border=\"1\" class=\"dataframe\">\n",
       "  <thead>\n",
       "    <tr style=\"text-align: right;\">\n",
       "      <th></th>\n",
       "      <th>Unnamed: 0</th>\n",
       "      <th>player_name</th>\n",
       "      <th>team_abbreviation</th>\n",
       "      <th>age</th>\n",
       "      <th>player_height</th>\n",
       "      <th>player_weight</th>\n",
       "      <th>college</th>\n",
       "      <th>country</th>\n",
       "      <th>draft_year</th>\n",
       "      <th>draft_round</th>\n",
       "      <th>...</th>\n",
       "      <th>pts</th>\n",
       "      <th>reb</th>\n",
       "      <th>ast</th>\n",
       "      <th>net_rating</th>\n",
       "      <th>oreb_pct</th>\n",
       "      <th>dreb_pct</th>\n",
       "      <th>usg_pct</th>\n",
       "      <th>ts_pct</th>\n",
       "      <th>ast_pct</th>\n",
       "      <th>season</th>\n",
       "    </tr>\n",
       "  </thead>\n",
       "  <tbody>\n",
       "    <tr>\n",
       "      <th>0</th>\n",
       "      <td>0</td>\n",
       "      <td>Randy Livingston</td>\n",
       "      <td>HOU</td>\n",
       "      <td>22.0</td>\n",
       "      <td>193.04</td>\n",
       "      <td>94.800728</td>\n",
       "      <td>Louisiana State</td>\n",
       "      <td>USA</td>\n",
       "      <td>1996</td>\n",
       "      <td>2</td>\n",
       "      <td>...</td>\n",
       "      <td>3.9</td>\n",
       "      <td>1.5</td>\n",
       "      <td>2.4</td>\n",
       "      <td>0.3</td>\n",
       "      <td>0.042</td>\n",
       "      <td>0.071</td>\n",
       "      <td>0.169</td>\n",
       "      <td>0.487</td>\n",
       "      <td>0.248</td>\n",
       "      <td>1996-97</td>\n",
       "    </tr>\n",
       "    <tr>\n",
       "      <th>1</th>\n",
       "      <td>1</td>\n",
       "      <td>Gaylon Nickerson</td>\n",
       "      <td>WAS</td>\n",
       "      <td>28.0</td>\n",
       "      <td>190.50</td>\n",
       "      <td>86.182480</td>\n",
       "      <td>Northwestern Oklahoma</td>\n",
       "      <td>USA</td>\n",
       "      <td>1994</td>\n",
       "      <td>2</td>\n",
       "      <td>...</td>\n",
       "      <td>3.8</td>\n",
       "      <td>1.3</td>\n",
       "      <td>0.3</td>\n",
       "      <td>8.9</td>\n",
       "      <td>0.030</td>\n",
       "      <td>0.111</td>\n",
       "      <td>0.174</td>\n",
       "      <td>0.497</td>\n",
       "      <td>0.043</td>\n",
       "      <td>1996-97</td>\n",
       "    </tr>\n",
       "    <tr>\n",
       "      <th>2</th>\n",
       "      <td>2</td>\n",
       "      <td>George Lynch</td>\n",
       "      <td>VAN</td>\n",
       "      <td>26.0</td>\n",
       "      <td>203.20</td>\n",
       "      <td>103.418976</td>\n",
       "      <td>North Carolina</td>\n",
       "      <td>USA</td>\n",
       "      <td>1993</td>\n",
       "      <td>1</td>\n",
       "      <td>...</td>\n",
       "      <td>8.3</td>\n",
       "      <td>6.4</td>\n",
       "      <td>1.9</td>\n",
       "      <td>-8.2</td>\n",
       "      <td>0.106</td>\n",
       "      <td>0.185</td>\n",
       "      <td>0.175</td>\n",
       "      <td>0.512</td>\n",
       "      <td>0.125</td>\n",
       "      <td>1996-97</td>\n",
       "    </tr>\n",
       "    <tr>\n",
       "      <th>3</th>\n",
       "      <td>3</td>\n",
       "      <td>George McCloud</td>\n",
       "      <td>LAL</td>\n",
       "      <td>30.0</td>\n",
       "      <td>203.20</td>\n",
       "      <td>102.058200</td>\n",
       "      <td>Florida State</td>\n",
       "      <td>USA</td>\n",
       "      <td>1989</td>\n",
       "      <td>1</td>\n",
       "      <td>...</td>\n",
       "      <td>10.2</td>\n",
       "      <td>2.8</td>\n",
       "      <td>1.7</td>\n",
       "      <td>-2.7</td>\n",
       "      <td>0.027</td>\n",
       "      <td>0.111</td>\n",
       "      <td>0.206</td>\n",
       "      <td>0.527</td>\n",
       "      <td>0.125</td>\n",
       "      <td>1996-97</td>\n",
       "    </tr>\n",
       "    <tr>\n",
       "      <th>4</th>\n",
       "      <td>4</td>\n",
       "      <td>George Zidek</td>\n",
       "      <td>DEN</td>\n",
       "      <td>23.0</td>\n",
       "      <td>213.36</td>\n",
       "      <td>119.748288</td>\n",
       "      <td>UCLA</td>\n",
       "      <td>USA</td>\n",
       "      <td>1995</td>\n",
       "      <td>1</td>\n",
       "      <td>...</td>\n",
       "      <td>2.8</td>\n",
       "      <td>1.7</td>\n",
       "      <td>0.3</td>\n",
       "      <td>-14.1</td>\n",
       "      <td>0.102</td>\n",
       "      <td>0.169</td>\n",
       "      <td>0.195</td>\n",
       "      <td>0.500</td>\n",
       "      <td>0.064</td>\n",
       "      <td>1996-97</td>\n",
       "    </tr>\n",
       "  </tbody>\n",
       "</table>\n",
       "<p>5 rows × 22 columns</p>\n",
       "</div>"
      ],
      "text/plain": [
       "   Unnamed: 0       player_name team_abbreviation   age  player_height  \\\n",
       "0           0  Randy Livingston               HOU  22.0         193.04   \n",
       "1           1  Gaylon Nickerson               WAS  28.0         190.50   \n",
       "2           2      George Lynch               VAN  26.0         203.20   \n",
       "3           3    George McCloud               LAL  30.0         203.20   \n",
       "4           4      George Zidek               DEN  23.0         213.36   \n",
       "\n",
       "   player_weight                college country draft_year draft_round  ...  \\\n",
       "0      94.800728        Louisiana State     USA       1996           2  ...   \n",
       "1      86.182480  Northwestern Oklahoma     USA       1994           2  ...   \n",
       "2     103.418976         North Carolina     USA       1993           1  ...   \n",
       "3     102.058200          Florida State     USA       1989           1  ...   \n",
       "4     119.748288                   UCLA     USA       1995           1  ...   \n",
       "\n",
       "    pts  reb  ast  net_rating  oreb_pct  dreb_pct  usg_pct  ts_pct  ast_pct  \\\n",
       "0   3.9  1.5  2.4         0.3     0.042     0.071    0.169   0.487    0.248   \n",
       "1   3.8  1.3  0.3         8.9     0.030     0.111    0.174   0.497    0.043   \n",
       "2   8.3  6.4  1.9        -8.2     0.106     0.185    0.175   0.512    0.125   \n",
       "3  10.2  2.8  1.7        -2.7     0.027     0.111    0.206   0.527    0.125   \n",
       "4   2.8  1.7  0.3       -14.1     0.102     0.169    0.195   0.500    0.064   \n",
       "\n",
       "    season  \n",
       "0  1996-97  \n",
       "1  1996-97  \n",
       "2  1996-97  \n",
       "3  1996-97  \n",
       "4  1996-97  \n",
       "\n",
       "[5 rows x 22 columns]"
      ]
     },
     "execution_count": 2,
     "metadata": {},
     "output_type": "execute_result"
    }
   ],
   "source": [
    "# read a csv file into a df\n",
    "df = pd.read_csv('nba.csv')\n",
    "\n",
    "dfTeams = pd.read_csv('unique_teams.csv')\n",
    "\n",
    "df.head()"
   ]
  },
  {
   "cell_type": "markdown",
   "metadata": {},
   "source": [
    "**Put abbreviations to Cities**\n",
    "\n",
    "Some cities have multiple as franchises have changed\n",
    "\n",
    "Cities had to be added as ESPN win rates used cities"
   ]
  },
  {
   "cell_type": "code",
   "execution_count": 3,
   "metadata": {},
   "outputs": [],
   "source": [
    "# merge the two dataframes on team_abbreviation with df and dfTeams on abbreviations\n",
    "df = pd.merge(df, dfTeams, left_on='team_abbreviation', right_on='abbreviations')\n",
    "\n",
    "# drop the team_abbreviation column and abbreviations column\n",
    "df = df.drop(columns=['team_abbreviation', 'abbreviations'])"
   ]
  },
  {
   "cell_type": "code",
   "execution_count": 4,
   "metadata": {},
   "outputs": [
    {
     "data": {
      "text/plain": [
       "player_name       object\n",
       "age              float64\n",
       "player_height    float64\n",
       "player_weight    float64\n",
       "college           object\n",
       "country           object\n",
       "draft_year        object\n",
       "draft_round       object\n",
       "draft_number      object\n",
       "gp                 int64\n",
       "pts              float64\n",
       "reb              float64\n",
       "ast              float64\n",
       "net_rating       float64\n",
       "oreb_pct         float64\n",
       "dreb_pct         float64\n",
       "usg_pct          float64\n",
       "ts_pct           float64\n",
       "ast_pct          float64\n",
       "season            object\n",
       "team              object\n",
       "dtype: object"
      ]
     },
     "execution_count": 4,
     "metadata": {},
     "output_type": "execute_result"
    }
   ],
   "source": [
    "# drop the unnamed column\n",
    "df.drop('Unnamed: 0', axis=1, inplace=True)\n",
    "\n",
    "df.head()\n",
    "\n",
    "df.dtypes"
   ]
  },
  {
   "cell_type": "code",
   "execution_count": 5,
   "metadata": {},
   "outputs": [
    {
     "data": {
      "text/plain": [
       "player_name      0\n",
       "age              0\n",
       "player_height    0\n",
       "player_weight    0\n",
       "college          0\n",
       "country          0\n",
       "draft_year       0\n",
       "draft_round      0\n",
       "draft_number     0\n",
       "gp               0\n",
       "pts              0\n",
       "reb              0\n",
       "ast              0\n",
       "net_rating       0\n",
       "oreb_pct         0\n",
       "dreb_pct         0\n",
       "usg_pct          0\n",
       "ts_pct           0\n",
       "ast_pct          0\n",
       "season           0\n",
       "team             0\n",
       "dtype: int64"
      ]
     },
     "execution_count": 5,
     "metadata": {},
     "output_type": "execute_result"
    }
   ],
   "source": [
    "# look for null values\n",
    "df.isnull().sum()"
   ]
  },
  {
   "cell_type": "markdown",
   "metadata": {},
   "source": [
    "### Data Preprocessing\n",
    "\n",
    "We need to deal with the columns we want to keep and also all the categorial data cols of:\n",
    "\n",
    "player_name           object\n",
    "\n",
    "team_abbreviation     object\n",
    "\n",
    "college               object\n",
    "\n",
    "country               object\n",
    "\n",
    "draft_year            object\n",
    "\n",
    "draft_round           object\n",
    "\n",
    "draft_number          object\n",
    "\n",
    "season                object"
   ]
  },
  {
   "cell_type": "markdown",
   "metadata": {},
   "source": [
    "#### **Drop Some of Them**"
   ]
  },
  {
   "cell_type": "code",
   "execution_count": 6,
   "metadata": {},
   "outputs": [],
   "source": [
    "df.drop(['player_name', 'college', 'draft_year', 'draft_round', 'draft_number'], axis=1, inplace=True)"
   ]
  },
  {
   "cell_type": "markdown",
   "metadata": {},
   "source": [
    "#### **Country**"
   ]
  },
  {
   "cell_type": "code",
   "execution_count": 7,
   "metadata": {},
   "outputs": [
    {
     "name": "stdout",
     "output_type": "stream",
     "text": [
      "Country value counts:\n",
      "\n",
      "75    10569\n",
      "12      203\n",
      "25      189\n",
      "2       100\n",
      "63       93\n",
      "      ...  \n",
      "70        1\n",
      "66        1\n",
      "14        1\n",
      "20        1\n",
      "29        1\n",
      "Name: country, Length: 82, dtype: int64\n"
     ]
    }
   ],
   "source": [
    "df['country'] = pd.Categorical(df['country']).codes\n",
    "\n",
    "# print format the value counts with 'Country' as the header\n",
    "print(\"Country value counts:\\n\\n%s\" % df['country'].value_counts())\n",
    "\n",
    "# Maybe drop this col for now\n",
    "df.drop('country', axis=1, inplace=True)"
   ]
  },
  {
   "cell_type": "markdown",
   "metadata": {},
   "source": [
    "**Encode Season**"
   ]
  },
  {
   "cell_type": "code",
   "execution_count": 8,
   "metadata": {},
   "outputs": [
    {
     "name": "stdout",
     "output_type": "stream",
     "text": [
      "Season unique pairings:\n",
      "       season  seasonEncoded\n",
      "0    1996-97              0\n",
      "17   1997-98              1\n",
      "31   1998-99              2\n",
      "46   1999-00              3\n",
      "62   2000-01              4\n",
      "76   2001-02              5\n",
      "90   2002-03              6\n",
      "104  2003-04              7\n",
      "119  2004-05              8\n",
      "136  2005-06              9\n",
      "152  2006-07             10\n",
      "166  2007-08             11\n",
      "183  2008-09             12\n",
      "198  2009-10             13\n",
      "214  2010-11             14\n",
      "229  2011-12             15\n",
      "244  2012-13             16\n",
      "258  2013-14             17\n",
      "274  2014-15             18\n",
      "291  2015-16             19\n",
      "306  2016-17             20\n",
      "321  2017-18             21\n",
      "340  2018-19             22\n",
      "360  2019-20             23\n",
      "380  2020-21             24\n",
      "402  2021-22             25\n",
      "418  2022-23             26\n"
     ]
    }
   ],
   "source": [
    "# categorical code season col but i want to keep the original\n",
    "df['seasonEncoded'] = pd.Categorical(df['season']).codes\n",
    "\n",
    "# print the unique values of season and seasonEncoded\n",
    "unique_pairings = df[['season', 'seasonEncoded']].drop_duplicates()\n",
    "print(\"Season unique pairings:\\n\", unique_pairings)\n",
    "\n",
    "# drop the rows where seasonEncoded is less than 7. This keeps the season of 03-04 and later\n",
    "df = df[df['seasonEncoded'] >= 7]\n",
    "\n",
    "df.drop('season', axis=1, inplace=True)\n",
    "df.reset_index(drop=True, inplace=True)"
   ]
  },
  {
   "cell_type": "markdown",
   "metadata": {},
   "source": [
    "#### **Add in Win Rates**"
   ]
  },
  {
   "cell_type": "code",
   "execution_count": 9,
   "metadata": {},
   "outputs": [],
   "source": [
    "def winRateFromYear(year, seasonEncoded):\n",
    "    print(f'Getting data from {year}...{seasonEncoded}')\n",
    "    # read the data into a df\n",
    "    winRateDf = pd.read_html(f'https://www.espn.com/nba/stats/rpi/_/year/{year}')[0]\n",
    "\n",
    "    # make the first row the header\n",
    "    winRateDf.columns = winRateDf.iloc[1]\n",
    "\n",
    "    #drop the first two rows\n",
    "    winRateDf.drop([0, 1], inplace=True)\n",
    "\n",
    "    winRateDf['PT DIFF'] = winRateDf['PF'].astype(float) - winRateDf['PA'].astype(float)\n",
    "\n",
    "    winRateDf['seasonEncoded'] = seasonEncoded\n",
    "\n",
    "    winRateDf = winRateDf[['TEAM', 'RPI', 'PCT', 'PT DIFF', 'seasonEncoded']]\n",
    "\n",
    "    return winRateDf"
   ]
  },
  {
   "cell_type": "markdown",
   "metadata": {},
   "source": [
    "**Merge DF2 with df on Team Names**"
   ]
  },
  {
   "cell_type": "code",
   "execution_count": 10,
   "metadata": {},
   "outputs": [
    {
     "name": "stdout",
     "output_type": "stream",
     "text": [
      "Getting data from 2004...7\n"
     ]
    },
    {
     "name": "stderr",
     "output_type": "stream",
     "text": [
      "C:\\Users\\miche\\AppData\\Local\\Temp\\ipykernel_36832\\1662288815.py:6: FutureWarning: The frame.append method is deprecated and will be removed from pandas in a future version. Use pandas.concat instead.\n",
      "  winRateDf = winRateDf.append(winRateFromYear(year, seasonEncoded))\n"
     ]
    },
    {
     "name": "stdout",
     "output_type": "stream",
     "text": [
      "Getting data from 2005...8\n"
     ]
    },
    {
     "name": "stderr",
     "output_type": "stream",
     "text": [
      "C:\\Users\\miche\\AppData\\Local\\Temp\\ipykernel_36832\\1662288815.py:6: FutureWarning: The frame.append method is deprecated and will be removed from pandas in a future version. Use pandas.concat instead.\n",
      "  winRateDf = winRateDf.append(winRateFromYear(year, seasonEncoded))\n",
      "C:\\Users\\miche\\AppData\\Local\\Temp\\ipykernel_36832\\1662288815.py:6: FutureWarning: The frame.append method is deprecated and will be removed from pandas in a future version. Use pandas.concat instead.\n",
      "  winRateDf = winRateDf.append(winRateFromYear(year, seasonEncoded))\n"
     ]
    },
    {
     "name": "stdout",
     "output_type": "stream",
     "text": [
      "Getting data from 2006...9\n",
      "Getting data from 2007...10\n"
     ]
    },
    {
     "name": "stderr",
     "output_type": "stream",
     "text": [
      "C:\\Users\\miche\\AppData\\Local\\Temp\\ipykernel_36832\\1662288815.py:6: FutureWarning: The frame.append method is deprecated and will be removed from pandas in a future version. Use pandas.concat instead.\n",
      "  winRateDf = winRateDf.append(winRateFromYear(year, seasonEncoded))\n",
      "C:\\Users\\miche\\AppData\\Local\\Temp\\ipykernel_36832\\1662288815.py:6: FutureWarning: The frame.append method is deprecated and will be removed from pandas in a future version. Use pandas.concat instead.\n",
      "  winRateDf = winRateDf.append(winRateFromYear(year, seasonEncoded))\n"
     ]
    },
    {
     "name": "stdout",
     "output_type": "stream",
     "text": [
      "Getting data from 2008...11\n",
      "Getting data from 2009...12\n"
     ]
    },
    {
     "name": "stderr",
     "output_type": "stream",
     "text": [
      "C:\\Users\\miche\\AppData\\Local\\Temp\\ipykernel_36832\\1662288815.py:6: FutureWarning: The frame.append method is deprecated and will be removed from pandas in a future version. Use pandas.concat instead.\n",
      "  winRateDf = winRateDf.append(winRateFromYear(year, seasonEncoded))\n"
     ]
    },
    {
     "name": "stdout",
     "output_type": "stream",
     "text": [
      "Getting data from 2010...13\n"
     ]
    },
    {
     "name": "stderr",
     "output_type": "stream",
     "text": [
      "C:\\Users\\miche\\AppData\\Local\\Temp\\ipykernel_36832\\1662288815.py:6: FutureWarning: The frame.append method is deprecated and will be removed from pandas in a future version. Use pandas.concat instead.\n",
      "  winRateDf = winRateDf.append(winRateFromYear(year, seasonEncoded))\n"
     ]
    },
    {
     "name": "stdout",
     "output_type": "stream",
     "text": [
      "Getting data from 2011...14\n"
     ]
    },
    {
     "name": "stderr",
     "output_type": "stream",
     "text": [
      "C:\\Users\\miche\\AppData\\Local\\Temp\\ipykernel_36832\\1662288815.py:6: FutureWarning: The frame.append method is deprecated and will be removed from pandas in a future version. Use pandas.concat instead.\n",
      "  winRateDf = winRateDf.append(winRateFromYear(year, seasonEncoded))\n"
     ]
    },
    {
     "name": "stdout",
     "output_type": "stream",
     "text": [
      "Getting data from 2012...15\n"
     ]
    },
    {
     "name": "stderr",
     "output_type": "stream",
     "text": [
      "C:\\Users\\miche\\AppData\\Local\\Temp\\ipykernel_36832\\1662288815.py:6: FutureWarning: The frame.append method is deprecated and will be removed from pandas in a future version. Use pandas.concat instead.\n",
      "  winRateDf = winRateDf.append(winRateFromYear(year, seasonEncoded))\n",
      "C:\\Users\\miche\\AppData\\Local\\Temp\\ipykernel_36832\\1662288815.py:6: FutureWarning: The frame.append method is deprecated and will be removed from pandas in a future version. Use pandas.concat instead.\n",
      "  winRateDf = winRateDf.append(winRateFromYear(year, seasonEncoded))\n"
     ]
    },
    {
     "name": "stdout",
     "output_type": "stream",
     "text": [
      "Getting data from 2013...16\n",
      "Getting data from 2014...17\n"
     ]
    },
    {
     "name": "stderr",
     "output_type": "stream",
     "text": [
      "C:\\Users\\miche\\AppData\\Local\\Temp\\ipykernel_36832\\1662288815.py:6: FutureWarning: The frame.append method is deprecated and will be removed from pandas in a future version. Use pandas.concat instead.\n",
      "  winRateDf = winRateDf.append(winRateFromYear(year, seasonEncoded))\n",
      "C:\\Users\\miche\\AppData\\Local\\Temp\\ipykernel_36832\\1662288815.py:6: FutureWarning: The frame.append method is deprecated and will be removed from pandas in a future version. Use pandas.concat instead.\n",
      "  winRateDf = winRateDf.append(winRateFromYear(year, seasonEncoded))\n"
     ]
    },
    {
     "name": "stdout",
     "output_type": "stream",
     "text": [
      "Getting data from 2015...18\n",
      "Getting data from 2016...19\n",
      "Getting data from 2017...20\n"
     ]
    },
    {
     "name": "stderr",
     "output_type": "stream",
     "text": [
      "C:\\Users\\miche\\AppData\\Local\\Temp\\ipykernel_36832\\1662288815.py:6: FutureWarning: The frame.append method is deprecated and will be removed from pandas in a future version. Use pandas.concat instead.\n",
      "  winRateDf = winRateDf.append(winRateFromYear(year, seasonEncoded))\n",
      "C:\\Users\\miche\\AppData\\Local\\Temp\\ipykernel_36832\\1662288815.py:6: FutureWarning: The frame.append method is deprecated and will be removed from pandas in a future version. Use pandas.concat instead.\n",
      "  winRateDf = winRateDf.append(winRateFromYear(year, seasonEncoded))\n",
      "C:\\Users\\miche\\AppData\\Local\\Temp\\ipykernel_36832\\1662288815.py:6: FutureWarning: The frame.append method is deprecated and will be removed from pandas in a future version. Use pandas.concat instead.\n",
      "  winRateDf = winRateDf.append(winRateFromYear(year, seasonEncoded))\n"
     ]
    },
    {
     "name": "stdout",
     "output_type": "stream",
     "text": [
      "Getting data from 2018...21\n",
      "Getting data from 2019...22\n"
     ]
    },
    {
     "name": "stderr",
     "output_type": "stream",
     "text": [
      "C:\\Users\\miche\\AppData\\Local\\Temp\\ipykernel_36832\\1662288815.py:6: FutureWarning: The frame.append method is deprecated and will be removed from pandas in a future version. Use pandas.concat instead.\n",
      "  winRateDf = winRateDf.append(winRateFromYear(year, seasonEncoded))\n"
     ]
    },
    {
     "name": "stdout",
     "output_type": "stream",
     "text": [
      "Getting data from 2020...23\n"
     ]
    },
    {
     "name": "stderr",
     "output_type": "stream",
     "text": [
      "C:\\Users\\miche\\AppData\\Local\\Temp\\ipykernel_36832\\1662288815.py:6: FutureWarning: The frame.append method is deprecated and will be removed from pandas in a future version. Use pandas.concat instead.\n",
      "  winRateDf = winRateDf.append(winRateFromYear(year, seasonEncoded))\n"
     ]
    },
    {
     "name": "stdout",
     "output_type": "stream",
     "text": [
      "Getting data from 2021...24\n"
     ]
    },
    {
     "name": "stderr",
     "output_type": "stream",
     "text": [
      "C:\\Users\\miche\\AppData\\Local\\Temp\\ipykernel_36832\\1662288815.py:6: FutureWarning: The frame.append method is deprecated and will be removed from pandas in a future version. Use pandas.concat instead.\n",
      "  winRateDf = winRateDf.append(winRateFromYear(year, seasonEncoded))\n",
      "C:\\Users\\miche\\AppData\\Local\\Temp\\ipykernel_36832\\1662288815.py:6: FutureWarning: The frame.append method is deprecated and will be removed from pandas in a future version. Use pandas.concat instead.\n",
      "  winRateDf = winRateDf.append(winRateFromYear(year, seasonEncoded))\n"
     ]
    },
    {
     "name": "stdout",
     "output_type": "stream",
     "text": [
      "Getting data from 2022...25\n",
      "Getting data from 2023...26\n"
     ]
    },
    {
     "name": "stderr",
     "output_type": "stream",
     "text": [
      "C:\\Users\\miche\\AppData\\Local\\Temp\\ipykernel_36832\\1662288815.py:6: FutureWarning: The frame.append method is deprecated and will be removed from pandas in a future version. Use pandas.concat instead.\n",
      "  winRateDf = winRateDf.append(winRateFromYear(year, seasonEncoded))\n"
     ]
    },
    {
     "data": {
      "text/html": [
       "<div>\n",
       "<style scoped>\n",
       "    .dataframe tbody tr th:only-of-type {\n",
       "        vertical-align: middle;\n",
       "    }\n",
       "\n",
       "    .dataframe tbody tr th {\n",
       "        vertical-align: top;\n",
       "    }\n",
       "\n",
       "    .dataframe thead th {\n",
       "        text-align: right;\n",
       "    }\n",
       "</style>\n",
       "<table border=\"1\" class=\"dataframe\">\n",
       "  <thead>\n",
       "    <tr style=\"text-align: right;\">\n",
       "      <th>1</th>\n",
       "      <th>TEAM</th>\n",
       "      <th>RPI</th>\n",
       "      <th>PCT</th>\n",
       "      <th>PT DIFF</th>\n",
       "      <th>seasonEncoded</th>\n",
       "    </tr>\n",
       "  </thead>\n",
       "  <tbody>\n",
       "    <tr>\n",
       "      <th>27</th>\n",
       "      <td>Portland</td>\n",
       "      <td>.475</td>\n",
       "      <td>.402</td>\n",
       "      <td>-329.0</td>\n",
       "      <td>26</td>\n",
       "    </tr>\n",
       "    <tr>\n",
       "      <th>28</th>\n",
       "      <td>Charlotte</td>\n",
       "      <td>.458</td>\n",
       "      <td>.329</td>\n",
       "      <td>-512.0</td>\n",
       "      <td>26</td>\n",
       "    </tr>\n",
       "    <tr>\n",
       "      <th>29</th>\n",
       "      <td>Houston</td>\n",
       "      <td>.442</td>\n",
       "      <td>.268</td>\n",
       "      <td>-644.0</td>\n",
       "      <td>26</td>\n",
       "    </tr>\n",
       "    <tr>\n",
       "      <th>30</th>\n",
       "      <td>San Antonio</td>\n",
       "      <td>.440</td>\n",
       "      <td>.268</td>\n",
       "      <td>-823.0</td>\n",
       "      <td>26</td>\n",
       "    </tr>\n",
       "    <tr>\n",
       "      <th>31</th>\n",
       "      <td>Detroit</td>\n",
       "      <td>.429</td>\n",
       "      <td>.207</td>\n",
       "      <td>-674.0</td>\n",
       "      <td>26</td>\n",
       "    </tr>\n",
       "  </tbody>\n",
       "</table>\n",
       "</div>"
      ],
      "text/plain": [
       "1          TEAM   RPI   PCT  PT DIFF  seasonEncoded\n",
       "27     Portland  .475  .402   -329.0             26\n",
       "28    Charlotte  .458  .329   -512.0             26\n",
       "29      Houston  .442  .268   -644.0             26\n",
       "30  San Antonio  .440  .268   -823.0             26\n",
       "31      Detroit  .429  .207   -674.0             26"
      ]
     },
     "execution_count": 10,
     "metadata": {},
     "output_type": "execute_result"
    }
   ],
   "source": [
    "# merge the two dataframes on team with df and teams on team where seasonEncoded is 7\n",
    "winRateDf = pd.DataFrame()\n",
    "seasonEncoded = 7\n",
    "\n",
    "for year in range(2004, 2024):\n",
    "    winRateDf = winRateDf.append(winRateFromYear(year, seasonEncoded))\n",
    "    seasonEncoded += 1\n",
    "\n",
    "winRateDf.tail()"
   ]
  },
  {
   "cell_type": "markdown",
   "metadata": {},
   "source": [
    "**TODO: MERGE THE DFS**"
   ]
  },
  {
   "cell_type": "code",
   "execution_count": 12,
   "metadata": {},
   "outputs": [
    {
     "data": {
      "text/html": [
       "<div>\n",
       "<style scoped>\n",
       "    .dataframe tbody tr th:only-of-type {\n",
       "        vertical-align: middle;\n",
       "    }\n",
       "\n",
       "    .dataframe tbody tr th {\n",
       "        vertical-align: top;\n",
       "    }\n",
       "\n",
       "    .dataframe thead th {\n",
       "        text-align: right;\n",
       "    }\n",
       "</style>\n",
       "<table border=\"1\" class=\"dataframe\">\n",
       "  <thead>\n",
       "    <tr style=\"text-align: right;\">\n",
       "      <th></th>\n",
       "      <th>age</th>\n",
       "      <th>player_height</th>\n",
       "      <th>player_weight</th>\n",
       "      <th>gp</th>\n",
       "      <th>pts</th>\n",
       "      <th>reb</th>\n",
       "      <th>ast</th>\n",
       "      <th>net_rating</th>\n",
       "      <th>oreb_pct</th>\n",
       "      <th>dreb_pct</th>\n",
       "      <th>usg_pct</th>\n",
       "      <th>ts_pct</th>\n",
       "      <th>ast_pct</th>\n",
       "      <th>team</th>\n",
       "      <th>seasonEncoded</th>\n",
       "      <th>TEAM</th>\n",
       "      <th>RPI</th>\n",
       "      <th>PCT</th>\n",
       "      <th>PT DIFF</th>\n",
       "    </tr>\n",
       "  </thead>\n",
       "  <tbody>\n",
       "    <tr>\n",
       "      <th>0</th>\n",
       "      <td>40.0</td>\n",
       "      <td>205.74</td>\n",
       "      <td>111.130040</td>\n",
       "      <td>7</td>\n",
       "      <td>1.3</td>\n",
       "      <td>0.7</td>\n",
       "      <td>0.3</td>\n",
       "      <td>-7.9</td>\n",
       "      <td>0.000</td>\n",
       "      <td>0.217</td>\n",
       "      <td>0.165</td>\n",
       "      <td>0.521</td>\n",
       "      <td>0.100</td>\n",
       "      <td>Houston</td>\n",
       "      <td>7</td>\n",
       "      <td>Houston</td>\n",
       "      <td>.521</td>\n",
       "      <td>.549</td>\n",
       "      <td>142.0</td>\n",
       "    </tr>\n",
       "    <tr>\n",
       "      <th>1</th>\n",
       "      <td>33.0</td>\n",
       "      <td>200.66</td>\n",
       "      <td>122.469840</td>\n",
       "      <td>52</td>\n",
       "      <td>5.0</td>\n",
       "      <td>3.9</td>\n",
       "      <td>0.6</td>\n",
       "      <td>-5.0</td>\n",
       "      <td>0.104</td>\n",
       "      <td>0.175</td>\n",
       "      <td>0.152</td>\n",
       "      <td>0.538</td>\n",
       "      <td>0.063</td>\n",
       "      <td>Houston</td>\n",
       "      <td>7</td>\n",
       "      <td>Houston</td>\n",
       "      <td>.521</td>\n",
       "      <td>.549</td>\n",
       "      <td>142.0</td>\n",
       "    </tr>\n",
       "    <tr>\n",
       "      <th>2</th>\n",
       "      <td>28.0</td>\n",
       "      <td>193.04</td>\n",
       "      <td>97.522280</td>\n",
       "      <td>80</td>\n",
       "      <td>15.8</td>\n",
       "      <td>4.5</td>\n",
       "      <td>3.2</td>\n",
       "      <td>1.8</td>\n",
       "      <td>0.015</td>\n",
       "      <td>0.112</td>\n",
       "      <td>0.200</td>\n",
       "      <td>0.535</td>\n",
       "      <td>0.144</td>\n",
       "      <td>Houston</td>\n",
       "      <td>7</td>\n",
       "      <td>Houston</td>\n",
       "      <td>.521</td>\n",
       "      <td>.549</td>\n",
       "      <td>142.0</td>\n",
       "    </tr>\n",
       "    <tr>\n",
       "      <th>3</th>\n",
       "      <td>23.0</td>\n",
       "      <td>205.74</td>\n",
       "      <td>100.243832</td>\n",
       "      <td>45</td>\n",
       "      <td>3.1</td>\n",
       "      <td>1.6</td>\n",
       "      <td>0.7</td>\n",
       "      <td>2.0</td>\n",
       "      <td>0.021</td>\n",
       "      <td>0.136</td>\n",
       "      <td>0.159</td>\n",
       "      <td>0.477</td>\n",
       "      <td>0.103</td>\n",
       "      <td>Houston</td>\n",
       "      <td>7</td>\n",
       "      <td>Houston</td>\n",
       "      <td>.521</td>\n",
       "      <td>.549</td>\n",
       "      <td>142.0</td>\n",
       "    </tr>\n",
       "    <tr>\n",
       "      <th>4</th>\n",
       "      <td>29.0</td>\n",
       "      <td>195.58</td>\n",
       "      <td>104.326160</td>\n",
       "      <td>19</td>\n",
       "      <td>0.6</td>\n",
       "      <td>1.0</td>\n",
       "      <td>0.5</td>\n",
       "      <td>-8.4</td>\n",
       "      <td>0.010</td>\n",
       "      <td>0.167</td>\n",
       "      <td>0.093</td>\n",
       "      <td>0.278</td>\n",
       "      <td>0.132</td>\n",
       "      <td>Houston</td>\n",
       "      <td>7</td>\n",
       "      <td>Houston</td>\n",
       "      <td>.521</td>\n",
       "      <td>.549</td>\n",
       "      <td>142.0</td>\n",
       "    </tr>\n",
       "  </tbody>\n",
       "</table>\n",
       "</div>"
      ],
      "text/plain": [
       "    age  player_height  player_weight  gp   pts  reb  ast  net_rating  \\\n",
       "0  40.0         205.74     111.130040   7   1.3  0.7  0.3        -7.9   \n",
       "1  33.0         200.66     122.469840  52   5.0  3.9  0.6        -5.0   \n",
       "2  28.0         193.04      97.522280  80  15.8  4.5  3.2         1.8   \n",
       "3  23.0         205.74     100.243832  45   3.1  1.6  0.7         2.0   \n",
       "4  29.0         195.58     104.326160  19   0.6  1.0  0.5        -8.4   \n",
       "\n",
       "   oreb_pct  dreb_pct  usg_pct  ts_pct  ast_pct     team  seasonEncoded  \\\n",
       "0     0.000     0.217    0.165   0.521    0.100  Houston              7   \n",
       "1     0.104     0.175    0.152   0.538    0.063  Houston              7   \n",
       "2     0.015     0.112    0.200   0.535    0.144  Houston              7   \n",
       "3     0.021     0.136    0.159   0.477    0.103  Houston              7   \n",
       "4     0.010     0.167    0.093   0.278    0.132  Houston              7   \n",
       "\n",
       "      TEAM   RPI   PCT  PT DIFF  \n",
       "0  Houston  .521  .549    142.0  \n",
       "1  Houston  .521  .549    142.0  \n",
       "2  Houston  .521  .549    142.0  \n",
       "3  Houston  .521  .549    142.0  \n",
       "4  Houston  .521  .549    142.0  "
      ]
     },
     "execution_count": 12,
     "metadata": {},
     "output_type": "execute_result"
    }
   ],
   "source": [
    "merged_df = pd.merge(df, winRateDf, left_on=['team', 'seasonEncoded'], right_on=['TEAM', 'seasonEncoded'])\n",
    "\n",
    "merged_df.head()"
   ]
  }
 ],
 "metadata": {
  "kernelspec": {
   "display_name": "Python 3",
   "language": "python",
   "name": "python3"
  },
  "language_info": {
   "codemirror_mode": {
    "name": "ipython",
    "version": 3
   },
   "file_extension": ".py",
   "mimetype": "text/x-python",
   "name": "python",
   "nbconvert_exporter": "python",
   "pygments_lexer": "ipython3",
   "version": "3.10.1"
  }
 },
 "nbformat": 4,
 "nbformat_minor": 2
}
