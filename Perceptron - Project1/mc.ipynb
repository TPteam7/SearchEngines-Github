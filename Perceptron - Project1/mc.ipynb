{
 "cells": [
  {
   "cell_type": "code",
   "execution_count": 1,
   "metadata": {},
   "outputs": [
    {
     "name": "stdout",
     "output_type": "stream",
     "text": [
      "[[0 0 0 0 0 0 0 0 0 0]\n",
      " [0 0 0 0 0 0 0 1 4 0]\n",
      " [0 0 0 0 0 0 0 1 4 0]\n",
      " [0 0 0 0 0 0 0 1 4 0]\n",
      " [0 0 0 0 2 0 0 0 0 0]\n",
      " [0 0 0 0 2 0 0 0 0 0]\n",
      " [0 0 0 0 0 0 0 3 0 0]\n",
      " [0 0 0 0 0 0 0 0 0 0]\n",
      " [0 0 0 7 0 0 0 0 0 0]\n",
      " [0 0 0 0 0 0 0 0 0 0]]\n",
      "Trained weights: [0.  0.  0.  0.  0.  0.  0.  0.1 0.4 0. ]\n",
      "Trained bias: 0.1\n",
      "\n",
      "Prediction for [0, 0, 0, 0, 0, 0, 0, 0, 0, 0]: 0\n"
     ]
    }
   ],
   "source": [
    "import numpy as np\n",
    "\n",
    "# Activation function (Step function)\n",
    "def activation_function(x):\n",
    "    res =  np.maximum(0,x)\n",
    "\n",
    "    if res > 0.5:\n",
    "        return 1\n",
    "    else:\n",
    "        return 0\n",
    "\n",
    "# Perceptron training function\n",
    "def train_perceptron(data, labels, epochs=10, learning_rate=0.05):\n",
    "    # Initialize weights and bias to zeros\n",
    "    weights = np.zeros(data.shape[1])   # 1 x 2 array\n",
    "    bias = 0.0\n",
    "    \n",
    "    for epoch in range(epochs):\n",
    "        for i in range(len(data)):\n",
    "            x = data[i]     # makes it a 1 x 2 array\n",
    "            y = labels[i]\n",
    "            \n",
    "            # Calculate the weighted sum\n",
    "            weighted_sum = np.dot(weights, x) + bias\n",
    "            \n",
    "            # Pass through activation function\n",
    "            prediction = activation_function(weighted_sum)\n",
    "            \n",
    "            # Update weights and bias\n",
    "            error = y - prediction\n",
    "            weights += learning_rate * error * x\n",
    "            bias += learning_rate * error\n",
    "            \n",
    "    return weights, bias\n",
    "\n",
    "# Main function\n",
    "if __name__ == \"__main__\":\n",
    "    # Define training data for AND gate\n",
    "    # x1, x2 are inputs and y is output\n",
    "    training_data = np.array([[0, 0, 0, 0, 0, 0, 0, 0, 0, 0],\n",
    "                              [0, 0, 0, 0, 0, 0, 0, 1, 4, 0],\n",
    "                              [0, 0, 0, 0, 0, 0, 0, 1, 4, 0],\n",
    "                              [0, 0, 0, 0, 0, 0, 0, 1, 4, 0],\n",
    "                              [0, 0, 0, 0, 2, 0, 0, 0, 0, 0],\n",
    "                              [0, 0, 0, 0, 2, 0, 0, 0, 0, 0],\n",
    "                              [0, 0, 0, 0, 0, 0, 0, 3, 0, 0],\n",
    "                              [0, 0, 0, 0, 0, 0, 0, 0, 0, 0],\n",
    "                              [0, 0, 0, 7, 0, 0, 0, 0, 0, 0],\n",
    "                              [0, 0, 0, 0, 0, 0, 0, 0, 0, 0]])\n",
    "    print(training_data)\n",
    "    # 4 x 2 array\n",
    "\n",
    "    labels = np.array([0, 1, 1, 1, 0, 0, 0, 0, 0, 0])  # Output for AND gate  # 1 x 4 array\n",
    "\n",
    "    # Train the perceptron\n",
    "    weights, bias = train_perceptron(training_data, labels, epochs=10, learning_rate=0.1)\n",
    "    \n",
    "    print(\"Trained weights:\", weights)\n",
    "    print(\"Trained bias:\", bias)\n",
    "\n",
    "    # Test the perceptron\n",
    "    test_data = np.array([0, 0, 0, 0, 0, 0, 0, 0, 0, 0])\n",
    "    test_result = activation_function(np.dot(weights, test_data) + bias)\n",
    "    print(f\"\\nPrediction for [0, 0, 0, 0, 0, 0, 0, 0, 0, 0]: {test_result}\")"
   ]
  }
 ],
 "metadata": {
  "kernelspec": {
   "display_name": "Python 3",
   "language": "python",
   "name": "python3"
  },
  "language_info": {
   "codemirror_mode": {
    "name": "ipython",
    "version": 3
   },
   "file_extension": ".py",
   "mimetype": "text/x-python",
   "name": "python",
   "nbconvert_exporter": "python",
   "pygments_lexer": "ipython3",
   "version": "3.10.1"
  }
 },
 "nbformat": 4,
 "nbformat_minor": 2
}
